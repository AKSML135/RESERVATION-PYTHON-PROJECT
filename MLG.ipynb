{
 "cells": [
  {
   "cell_type": "code",
   "execution_count": null,
   "metadata": {},
   "outputs": [
    {
     "name": "stdout",
     "output_type": "stream",
     "text": [
      "WELCOME,LET'S GO MAD WITH MAD LIB GENERATOR\n",
      "choose a book character: ram\n"
     ]
    }
   ],
   "source": [
    "print(\"WELCOME,LET'S GO MAD WITH MAD LIB GENERATOR\")\n",
    "a=input(\"choose a book character: \")\n",
    "b=input(\"choose a horrific adjective\")\n",
    "c=input(\"choose a verb ending with -ing: \")\n",
    "d=input(\"choose a verb ending with -ing: \")\n",
    "e=input(\"choose another character: \")\n",
    "f=input(\"choose a place name: \")\n",
    "g=input(\"choose your favorite book: \")\n",
    "h=input(\"your librarian name\")\n",
    "i=input(\"exclamation\")\n",
    "j=input(\"number between 1-12\")\n",
    "print(\"A CRAZZY NIGHT AT THE LIBRARY\")\n",
    "\n",
    "print('''One night something really '''+str(b)+ ''' hapened at the library. The characters in the stories started '''+str(c)+ ''' from their books! '''\n",
    "\n",
    "+str(a)+ ''' climbed into Charlotte's Web and started ''' +str(d)+ ''' with Wilbur the Pig! ''' +str(e)+ ''' wandered into an encyclopedia and ended up lost in ''' +str(f)+ '''  !\n",
    "\n",
    "The craziest part was when Emilia wandered into and said, “Rocky, I don't think we're in Chicago any more.”\n",
    "\n",
    "Then '''+str(h)+ '''  walked in and said, “ '''+str(i)+''' ! Everybody back in place!”\n",
    "\n",
    "The characters around the room. Just in time! The students in grade ''' +str(j)+ ''' came in to get books for their reports, but it was safe. All the characters were back in the books where they belonged.''')"
   ]
  },
  {
   "cell_type": "code",
   "execution_count": null,
   "metadata": {},
   "outputs": [],
   "source": []
  },
  {
   "cell_type": "code",
   "execution_count": null,
   "metadata": {},
   "outputs": [],
   "source": []
  }
 ],
 "metadata": {
  "kernelspec": {
   "display_name": "Python 3",
   "language": "python",
   "name": "python3"
  },
  "language_info": {
   "codemirror_mode": {
    "name": "ipython",
    "version": 3
   },
   "file_extension": ".py",
   "mimetype": "text/x-python",
   "name": "python",
   "nbconvert_exporter": "python",
   "pygments_lexer": "ipython3",
   "version": "3.6.5"
  }
 },
 "nbformat": 4,
 "nbformat_minor": 2
}
